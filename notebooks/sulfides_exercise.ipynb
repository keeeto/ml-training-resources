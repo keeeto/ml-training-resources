{
 "cells": [
  {
   "cell_type": "markdown",
   "metadata": {},
   "source": [
    "# Exercise\n",
    "\n",
    "In this exercise you will have to build a model to predict the formation energy of a data set of sulfide materials.\n",
    "\n",
    "Note - if at any stage you need a new cell for running code or making notes use\n",
    "\n",
    "* Insert > Cell above/below\n",
    "* If you want to use that cell for making notes use Cell > Cell Type > Markdown\n",
    "\n",
    "**Hint** it is a good idea to make good clear notes of what you are doing and why - that will certainly help with grades. Use markdown cells for this.\n",
    "\n",
    "## Set up the Python environment\n",
    "\n",
    "Run the cell below to import the various packages that we will use."
   ]
  },
  {
   "cell_type": "code",
   "execution_count": 1,
   "metadata": {},
   "outputs": [],
   "source": [
    "# sklearn\n",
    "from sklearn import metrics\n",
    "from sklearn.linear_model import LinearRegression\n",
    "from sklearn.model_selection import train_test_split, cross_val_score, GridSearchCV\n",
    "from sklearn.ensemble import GradientBoostingRegressor, AdaBoostRegressor\n",
    "import sklearn.datasets\n",
    "\n",
    "# helpers\n",
    "import pandas as pd\n",
    "import numpy as np\n",
    "import matplotlib.pyplot as plt\n",
    "plt.style.use('ggplot')"
   ]
  },
  {
   "cell_type": "markdown",
   "metadata": {},
   "source": [
    "---"
   ]
  },
  {
   "cell_type": "markdown",
   "metadata": {},
   "source": [
    "# The Dataset (4 marks)\n",
    "\n",
    "We initially download the data from `zenodo`. The data repo is [here](https://zenodo.org/record/4450207).\n",
    "\n",
    "Our data are stored in the pickle file `./training_data.pickle`. We load this file into a `pandas.DataFrame` object, an efficient interface to manage column-wise, heterogeneous tabular data. "
   ]
  },
  {
   "cell_type": "code",
   "execution_count": null,
   "metadata": {},
   "outputs": [],
   "source": [
    "!wget https://zenodo.org/record/4493010/files/sulfides.pickle\n",
    "sulfides = pd.read_pickle('./sulfides.pickle')"
   ]
  },
  {
   "cell_type": "markdown",
   "metadata": {},
   "source": [
    "### Investigating the dataset \n",
    "\n",
    "Using `sulfides.describe()` report the following:\n",
    "\n",
    "* Number of materials:\n",
    "* The max, min and mean formation energy per atom:"
   ]
  },
  {
   "cell_type": "code",
   "execution_count": null,
   "metadata": {
    "scrolled": true
   },
   "outputs": [],
   "source": []
  },
  {
   "cell_type": "markdown",
   "metadata": {},
   "source": [
    "### Set up the data\n",
    "\n",
    "For all of this exercise you will be using the `formation_energy_per_atom` as the value to predict i.e. the $y$ value. Set y to be equal to the values of the `formation_energy_per_atom` column of the `sulfides` dataframe. "
   ]
  },
  {
   "cell_type": "code",
   "execution_count": null,
   "metadata": {},
   "outputs": [],
   "source": []
  },
  {
   "cell_type": "markdown",
   "metadata": {},
   "source": [
    "# Linear regression: a starter (5 marks)\n",
    "\n",
    "* Use `list(sulfides.columns)` to show the names of the different features. Using any feature **except** `formation_energy_per_atom` as the $X$ values, build an linear regression model for $y=f(X)$. \n",
    "\n",
    "* Use the model to perform predictions.\n",
    "\n",
    "* Report the mean squared error and the mean absolute error for your model in the table below. Also, by consulting the documentation for `metrics` in `scikit-learn` [webpage here](https://scikit-learn.org/stable/modules/model_evaluation.html) report the $r^2$ value and the largest error in the predictions.\n",
    "\n",
    "* Choose four more features and get the MAE, MSE, $r^2$ and max error.\n",
    "\n",
    "* Choosing your best model, based on $r^2$ value, plot the predicted $y$ values against the actual $y$ values.\n",
    "\n",
    "| Feature | MAE (eV) | MSE (eV) | $r^2$    | Max (eV) |\n",
    "|---------|----------|----------|----------|----------|\n",
    "|         |          |          |          |          |\n",
    "|         |          |          |          |          |\n",
    "|         |          |          |          |          |\n",
    "|         |          |          |          |          |"
   ]
  },
  {
   "cell_type": "code",
   "execution_count": null,
   "metadata": {},
   "outputs": [],
   "source": []
  },
  {
   "cell_type": "code",
   "execution_count": null,
   "metadata": {},
   "outputs": [],
   "source": []
  },
  {
   "cell_type": "markdown",
   "metadata": {},
   "source": [
    "## Multivariate regression (5 marks)\n",
    "\n",
    "* Based on the $r^2$ values, choose the best three from the five features you investigated above and construct a multivariate regression with those three features. \n",
    "\n",
    "* Report the performance in the table below.\n",
    "\n",
    "* Plot the predicted 𝑦 values against the actual 𝑦 values.\n",
    "\n",
    "| Features| MAE (eV) | MSE (eV) | $r^2$    | Max (eV) |\n",
    "|---------|----------|----------|----------|----------|\n",
    "|         |          |          |          |          |"
   ]
  },
  {
   "cell_type": "code",
   "execution_count": null,
   "metadata": {},
   "outputs": [],
   "source": []
  },
  {
   "cell_type": "markdown",
   "metadata": {},
   "source": [
    "---"
   ]
  },
  {
   "cell_type": "markdown",
   "metadata": {},
   "source": [
    "# Gradient Boosting Regression (10 marks)\n",
    "\n",
    "We now move to building some more sophisticated ML models. \n",
    "\n",
    "* Set up a gradient boosting regression model, similar to that in the practical session.\n",
    "\n",
    "**Hint**\n",
    "<details>\n",
    "You can use more or less the same code, but remember that where `oxides` is used in the practical we are now working with `sulfides`.\n",
    "</details>\n",
    "\n",
    "* Set up the $X$ values for the training, we want these to be all features of `sulfides` **except** `formation_energy_per_atom`\n",
    "\n",
    "* Fit the function $y = f(X)$ where $f()$ is now the gradient boosting regressor.\n",
    "\n",
    "* Fill in the table below for the predictions of your fitted model on the data X\n",
    "\n",
    "| Features| MAE (eV) | MSE (eV) | $r^2$    | Max (eV) |\n",
    "|---------|----------|----------|----------|----------|\n",
    "|         |          |          |          |          |\n",
    "\n",
    "* Plot the predicted versus the true values of $y$"
   ]
  },
  {
   "cell_type": "code",
   "execution_count": null,
   "metadata": {},
   "outputs": [],
   "source": [
    "\n"
   ]
  },
  {
   "cell_type": "markdown",
   "metadata": {},
   "source": [
    "## Cross validation (5 marks)\n",
    "\n",
    "Above you did not have training and test sets. We know that to truely have a predictive model you need to use test sets. \n",
    "\n",
    "* Perform a 3-fold cross-validation - using `neg_mean_absolute_error` as the scoring metric\n",
    "* Report the mean of the cross-validation scores, multiplied by -1 to give the mean MAE for the model.\n"
   ]
  },
  {
   "cell_type": "code",
   "execution_count": null,
   "metadata": {},
   "outputs": [],
   "source": []
  },
  {
   "cell_type": "markdown",
   "metadata": {},
   "source": [
    "## Improving the model (22 marks)\n",
    "\n",
    "* Following the procedure outlined in the practical session, tune the hyper-parameters of the model and see if you can improve the cross-validation score.\n",
    "\n",
    "* **Note** in your grid-search for this exercise you may want to set the cross-validation to 3 rather than 5, to make it a little quicker. The searches may still take some time to complete, as the dataset it larger than that used in the peactical.\n",
    "\n",
    "**Hint**\n",
    "<details>\n",
    "If you are using the code from the practical as a template remember to be sure that you change the values of the hyper-parameters to reflect the best results from each step of the tuning in this notebook. E.g. you first tune the `n_estimators` parameter, in the practical the best value was 70, but in this version it may be different, make sure that when you are tuning the next set of parameters your `n_estimators` is set to the new best value *not* necesarily 70.\n",
    "</details>\n",
    "\n",
    "**Note**\n",
    "\n",
    " The grid search can take quite a long time in this exercise. You can tell it to print out progress by adding the parameter `verbose=2` to the `GridSearchCV` function call.\n",
    "\n",
    "\n",
    "* When you have tuned the hyper-parameters, once again perform a 3-fold cross-validation and report the mean of the `neg_mean_absolute_error` scores multiplied by -1. How has your model faired? Is it better than above?"
   ]
  },
  {
   "cell_type": "code",
   "execution_count": null,
   "metadata": {},
   "outputs": [],
   "source": []
  },
  {
   "cell_type": "markdown",
   "metadata": {},
   "source": [
    "## A different type of model (14 marks)\n",
    "\n",
    "Now you want to try a different model. We will use the `AdaBoostRegressor`. [Documentation here.](https://scikit-learn.org/stable/modules/generated/sklearn.ensemble.AdaBoostRegressor.html)\n",
    "\n",
    "* Initially set up the model with the following parameters\n",
    "\n",
    "```\n",
    "ada = AdaBoostRegressor(random_state=0, n_estimators=100, learning_rate=1, loss='linear')\n",
    "```\n",
    "\n",
    "* Perform a 3-fold cross-validation. What is the cross-validation score?\n",
    "\n",
    "* Perform a hyper-parameter search, varying n_estimators from 100 to 500 in steps of 100, and learning rate from 1 to 6 in steps of 1\n",
    "\n",
    "* What are the best parameters?\n",
    "\n",
    "* What is the best cross-validation score you can achieve?"
   ]
  },
  {
   "cell_type": "code",
   "execution_count": null,
   "metadata": {},
   "outputs": [],
   "source": []
  },
  {
   "cell_type": "markdown",
   "metadata": {},
   "source": [
    "## Feature selection (10 marks)\n",
    "\n",
    "* Choosing the best model that you have found so far in this exercise, either boosted regressor or AdaBoostRegressor, fit the model to the data and list the features of the model in terms of importance.\n",
    "\n",
    "* After examining the feature importance scores, choose only those features with importance > 0.003 and re-fit the model with those features.\n",
    "\n",
    "* What is the 4-fold cross-validation score for this model?\n",
    "\n",
    "**Hint**\n",
    "\n",
    "<details>\n",
    "If you  get an error about max features size, make sure to set the parameter `max_features` to be the same size as the number of features in your feature vector. \n",
    "</details>"
   ]
  },
  {
   "cell_type": "code",
   "execution_count": null,
   "metadata": {},
   "outputs": [],
   "source": []
  },
  {
   "cell_type": "markdown",
   "metadata": {},
   "source": [
    "## Final Validation (5 marks)\n",
    "\n",
    "* Decide on which model from this exercise is your best model to date. (Consider both model type and which features you use for $X$)\n",
    "\n",
    "* Using the `train_test_split` function as in the practical notebook, split your data into train and test sets.\n",
    "\n",
    "* Train the best model on the training set.\n",
    "\n",
    "* Plot your predicted y values on the **test set only** versus the actual y values for the test set.\n",
    "\n",
    "* Fill in the table below\n",
    "\n",
    "| Number of Features| MAE (eV) | MSE (eV) | $r^2$    | Max (eV) |\n",
    "|---------|----------|----------|----------|----------|\n",
    "|         |          |          |          |          |"
   ]
  },
  {
   "cell_type": "code",
   "execution_count": null,
   "metadata": {},
   "outputs": [],
   "source": []
  },
  {
   "cell_type": "markdown",
   "metadata": {},
   "source": [
    "## Insights (20 marks)\n",
    "\n",
    "\n",
    "* Would you consider this supervised or unsupervised machine leanring?\n",
    "* By examining the feature importances what do you learn about the properties that will most strongly influence the formation energy of a sulfide material, what are the three mostimportant factors?\n",
    "* Do you think that you will be able to vary the formation energy more strongly in an ionic ora covalent system?\n",
    "* Compare to the models you built for the oxides in the practical - how does the performance compare? Can you explain the differences in the performance?\n",
    "* What other types of machine learning models could you possibly use for this task? What might be the advantages/disadvantages of other methods?"
   ]
  },
  {
   "cell_type": "code",
   "execution_count": null,
   "metadata": {},
   "outputs": [],
   "source": []
  }
 ],
 "metadata": {
  "kernelspec": {
   "display_name": "Python 3 (ipykernel)",
   "language": "python",
   "name": "python3"
  },
  "language_info": {
   "codemirror_mode": {
    "name": "ipython",
    "version": 3
   },
   "file_extension": ".py",
   "mimetype": "text/x-python",
   "name": "python",
   "nbconvert_exporter": "python",
   "pygments_lexer": "ipython3",
   "version": "3.8.8"
  }
 },
 "nbformat": 4,
 "nbformat_minor": 4
}
